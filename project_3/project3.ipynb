{
 "cells": [
  {
   "cell_type": "code",
   "execution_count": 1,
   "metadata": {},
   "outputs": [],
   "source": [
    "import numpy as np\n",
    "import cv2\n",
    "import heapq"
   ]
  },
  {
   "cell_type": "code",
   "execution_count": 2,
   "metadata": {},
   "outputs": [],
   "source": [
    "h = 250\n",
    "w = 600\n",
    "map = np.zeros((h,w,1), dtype=np.uint8)"
   ]
  },
  {
   "cell_type": "code",
   "execution_count": 3,
   "metadata": {},
   "outputs": [
    {
     "data": {
      "text/plain": [
       "np.float64(0.0)"
      ]
     },
     "execution_count": 3,
     "metadata": {},
     "output_type": "execute_result"
    }
   ],
   "source": [
    "v = np.zeros((h,w,12))\n",
    "v[250-1][600-1][12-1]"
   ]
  },
  {
   "cell_type": "code",
   "execution_count": 4,
   "metadata": {},
   "outputs": [],
   "source": [
    "text_set = set()\n",
    "buffer_set = set()\n",
    "border_set = set()\n"
   ]
  },
  {
   "cell_type": "code",
   "execution_count": 5,
   "metadata": {},
   "outputs": [],
   "source": [
    "radius = 5\n",
    "clearance = 5\n",
    "buffer = radius+clearance"
   ]
  },
  {
   "cell_type": "code",
   "execution_count": 6,
   "metadata": {},
   "outputs": [],
   "source": [
    "map_text = map.copy()\n",
    "map_buffer = map.copy()\n",
    "map_border = map.copy()\n",
    "\n",
    "map_text = cv2.putText(map_text, \"E N P M 6 6 1\",(50,150), 0, 2, 255,5)\n",
    "text_coord = np.where(map_text==255)\n",
    "for i in range(0,len(text_coord[0])):\n",
    "    xy = (text_coord[1][i],text_coord[0][i])\n",
    "    text_set.add(xy)\n",
    "\n",
    "for item in text_set:\n",
    "    map_buffer = cv2.circle(map_buffer,item,buffer,255,-1)\n",
    "buffer_coord = np.where(map_buffer==255)\n",
    "for i in range(0,len(buffer_coord[0])):\n",
    "    xy = (buffer_coord[1][i],buffer_coord[0][i])\n",
    "    if xy not in text_set:\n",
    "        buffer_set.add(xy)\n",
    "\n",
    "map_border = cv2.rectangle(map_border,(0,0),(w-1,h-2),255,1)\n",
    "border_coord = np.where(map_border==255)\n",
    "for i in range(0,len(border_coord[0])):\n",
    "    xy = (border_coord[1][i],border_coord[0][i])\n",
    "    border_set.add(xy)\n",
    "\n",
    "del map_text\n",
    "del map_buffer\n",
    "del map_border\n",
    "del text_coord\n",
    "del buffer_coord\n",
    "del border_coord\n",
    "\n",
    "\n",
    "\n",
    "\n",
    "\n",
    "\n"
   ]
  },
  {
   "cell_type": "code",
   "execution_count": 7,
   "metadata": {},
   "outputs": [],
   "source": [
    "display_map = np.zeros((h,w,3),dtype=np.uint8)\n",
    "for item in text_set:\n",
    "    display_map[item[1],item[0]] = (255,0,0)\n",
    "\n",
    "for item in buffer_set:\n",
    "    display_map[item[1],item[0]] = (0,255,0)\n",
    "\n",
    "for item in border_set:\n",
    "    display_map[item[1],item[0]] = (0,0,255)\n",
    "\n"
   ]
  },
  {
   "cell_type": "code",
   "execution_count": 8,
   "metadata": {},
   "outputs": [],
   "source": [
    "# open list contains (total cost, (node_x,node_y, node_t)\n",
    "# tc_matrix contains total cost\n",
    "# c2c_matrix contains c2c\n",
    "# px_matrix contains parent x\n",
    "# py_matrix contains parent y\n",
    "# pt_matrix contains parent t\n",
    "tc_matrix = np.zeros((h,w,12))\n",
    "c2c_matrix = np.zeros((h,w,12))\n",
    "px_matrix = np.zeros((h,w,12))\n",
    "py_matrix = np.zeros((h,w,12))\n",
    "pt_matrix = np.zeros((h,w,12))\n",
    "\n",
    "open_list = []\n",
    "closed_list = []\n",
    "heapq.heapify(open_list)\n",
    "heapq.heapify(closed_list)\n",
    "\n",
    "start_x = 5\n",
    "start_y = 5\n",
    "start_t = 0\n",
    "start_xy = (start_x,start_y)\n",
    "start_xyt = (start_x,start_y,start_t)\n",
    "end_x = 500\n",
    "end_y = 240\n",
    "end_t = 0\n",
    "end_xy = (end_x,end_y)\n",
    "end_xyt = (end_x,end_y,end_t)\n",
    "step_size = 3\n",
    "\n",
    "\n"
   ]
  },
  {
   "cell_type": "code",
   "execution_count": 9,
   "metadata": {},
   "outputs": [],
   "source": [
    "\n",
    "def distance(p1,p2):\n",
    "    p1x,p1y,p1t = p1\n",
    "    p2x,p2y,p1t = p2\n",
    "    dist = np.sqrt(((p1x-p2x)**2)+((p1y-p2y)**2))\n",
    "    #dist = int(round(dist))\n",
    "    return dist\n",
    "\n",
    "def line_cross(p1,p2):\n",
    "    p1x,p1y,p1t = p1\n",
    "    p2x,p2y,p2t = p2\n",
    "    p1xy = (p1x,p1y)\n",
    "    p2xy = (p2x,p2y)\n",
    "    l_map = np.zeros((h,w,1),dtype=np.uint8)\n",
    "    l_map = cv2.line(l_map,p1xy,p2xy,(255),1)\n",
    "    l_coords = np.where(l_map==255)\n",
    "    for i in range(0,len(l_coords[0])):\n",
    "        xy = (l_coords[1][i],l_coords[0][i])\n",
    "        if xy in text_set:\n",
    "            return True\n",
    "        elif xy in buffer_set:\n",
    "            return True\n",
    "        elif xy in border_set:\n",
    "            return True\n"
   ]
  },
  {
   "cell_type": "code",
   "execution_count": 10,
   "metadata": {},
   "outputs": [],
   "source": [
    "# open list contains (total cost, (node_x,node_y, node_t)\n",
    "# tc_matrix contains total cost\n",
    "# c2c_matrix contains c2c\n",
    "# px_matrix contains parent x\n",
    "# py_matrix contains parent y\n",
    "# pt_matrix contains parent t\n",
    "def move(node,angle):\n",
    "    \n",
    "    p_xyt = node[1]\n",
    "    p_x,p_y,p_t = p_xyt\n",
    "    p_t_index = int(p_t/30)\n",
    "\n",
    "    c_x = int(round(p_x+(step_size*np.cos(np.deg2rad(angle)))))\n",
    "    c_y = int(round(p_y+(step_size*np.sin(np.deg2rad(angle)))))\n",
    "    c_t = angle\n",
    "    c_t_index = int(c_t/30)\n",
    "    c_xyt = (c_x,c_y,c_t)\n",
    "\n",
    "    if line_cross(p_xyt,c_xyt):\n",
    "        return\n",
    "    \n",
    "    current_tc= tc_matrix[c_y][c_x][c_t_index]\n",
    "\n",
    "    p_c2c = c2c_matrix[p_y][p_x][p_t_index]\n",
    "    c_c2c = p_c2c+step_size\n",
    "    c_c2g = distance(c_xyt,end_xyt)\n",
    "    c_tc = c_c2c+c_c2g\n",
    "\n",
    "    if current_tc ==  0:\n",
    "        tc_matrix[c_y][c_x][c_t_index] = c_tc\n",
    "        c2c_matrix[c_y][c_x][c_t_index] = c_c2c\n",
    "        px_matrix[c_y][c_x][c_t_index] = p_x\n",
    "        py_matrix[c_y][c_x][c_t_index] = p_y\n",
    "        pt_matrix[c_y][c_x][c_t_index] = p_t\n",
    "        new_node = (c_tc, c_xyt)\n",
    "        heapq.heappush(open_list,new_node)\n",
    "    \n",
    "    elif current_tc > c_tc:\n",
    "        old_node = (current_tc, c_xyt)\n",
    "        open_list.remove(old_node)\n",
    "        tc_matrix[c_y][c_x][c_t_index] = c_tc\n",
    "        c2c_matrix[c_y][c_x][c_t_index] = c_c2c\n",
    "        px_matrix[c_y][c_x][c_t_index] = p_x\n",
    "        py_matrix[c_y][c_x][c_t_index] = p_y\n",
    "        pt_matrix[c_y][c_x][c_t_index] = p_t\n",
    "        new_node = (c_tc, c_xyt)\n",
    "        heapq.heappush(open_list,new_node)\n",
    "        \n",
    "    else:\n",
    "        return\n",
    "\n",
    "\n"
   ]
  },
  {
   "cell_type": "code",
   "execution_count": 11,
   "metadata": {},
   "outputs": [],
   "source": [
    "start_tc = distance(start_xyt,end_xyt)\n",
    "first_ol = (start_tc,start_xyt)\n",
    "heapq.heappush(open_list,first_ol)\n",
    "tc_matrix[start_y][start_x][int(start_t/30)] = start_tc\n",
    "c2c_matrix[start_y][start_x][int(start_t/30)] = 0\n",
    "px_matrix[start_y][start_x][int(start_t/30)] = start_x\n",
    "py_matrix[start_y][start_x][int(start_t/30)] = start_y\n",
    "pt_matrix[start_y][start_x][int(start_t/30)] = start_t\n",
    "\n"
   ]
  },
  {
   "cell_type": "code",
   "execution_count": 12,
   "metadata": {},
   "outputs": [],
   "source": [
    "map_display = display_map.copy()\n",
    "#i = 0\n",
    "while True:\n",
    "    parent_node = heapq.heappop(open_list)\n",
    "\n",
    "    p_xyt = parent_node[1]\n",
    "    dist_to_goal = distance(p_xyt,end_xyt)\n",
    "\n",
    "    if dist_to_goal < 1.5:\n",
    "        break\n",
    "    \n",
    "    heapq.heappush(closed_list,parent_node)\n",
    "    #if i%10 == 0:\n",
    "    p1x,p1y,p1t = parent_node[1]\n",
    "    p2x = px_matrix[p1y][p1x][int(p1t/30)]\n",
    "    p2y = py_matrix[p1y][p1x][int(p1t/30)]\n",
    "    p1 = (p1x,p1y)\n",
    "    p2 = (int(p2x),int(p2y))\n",
    "    map_display = cv2.line(map_display,p1,p2,(255,255,255),1)\n",
    "    frame = map_display.copy()\n",
    "    cv2.imshow(\"animation\",frame)\n",
    "    if cv2.waitKey(1) & 0xFF == ord('q'):\n",
    "        break\n",
    "\n",
    "    for item in [-2,-1,0,1,2]:\n",
    "        ang = p_xyt[2] + (30*item)\n",
    "        ang = ang%360\n",
    "        move(parent_node,ang)\n",
    "    #i += 1\n",
    "    \n",
    "cv2.waitKey(0)\n",
    "cv2.destroyAllWindows()"
   ]
  }
 ],
 "metadata": {
  "kernelspec": {
   "display_name": "Python 3",
   "language": "python",
   "name": "python3"
  },
  "language_info": {
   "codemirror_mode": {
    "name": "ipython",
    "version": 3
   },
   "file_extension": ".py",
   "mimetype": "text/x-python",
   "name": "python",
   "nbconvert_exporter": "python",
   "pygments_lexer": "ipython3",
   "version": "3.10.12"
  }
 },
 "nbformat": 4,
 "nbformat_minor": 2
}
