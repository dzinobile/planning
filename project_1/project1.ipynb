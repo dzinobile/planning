{
 "cells": [
  {
   "cell_type": "code",
   "execution_count": 4,
   "metadata": {},
   "outputs": [],
   "source": [
    "import numpy as np\n",
    "import random\n",
    "# init_state = list(range(0,9))\n",
    "# random.shuffle(init_state)\n",
    "\n",
    "init_state = [0, 5, 4, 3, 8, 2, 6, 1, 7]\n",
    "\n",
    "# node = open(\"Nodes.txt\",\"w\")\n",
    "# for i in init_state:\n",
    "#     node.write(str(i)+\" \")\n",
    "# node.close()\n",
    "\n",
    "\n",
    "# def writenode(state):\n",
    "#     node = open(\"Nodes.txt\",\"a\")\n",
    "#     node.write(\"\\n\")\n",
    "#     for i in state:\n",
    "#         node.write(str(i)+\" \")\n",
    "#     node.close()\n",
    "    \n",
    "\n"
   ]
  },
  {
   "cell_type": "code",
   "execution_count": 5,
   "metadata": {},
   "outputs": [],
   "source": [
    "location_list = [\n",
    "    (0,0),\n",
    "    (1,0),\n",
    "    (2,0),\n",
    "    (0,1),\n",
    "    (1,1),\n",
    "    (2,1),\n",
    "    (0,2),\n",
    "    (1,2),\n",
    "    (2,2)]\n",
    "\n",
    "\n",
    "\n",
    "def locate_blank(state):\n",
    "    index = state.index(0)\n",
    "    return location_list[index]\n",
    "\n",
    "\n"
   ]
  },
  {
   "cell_type": "code",
   "execution_count": 6,
   "metadata": {},
   "outputs": [],
   "source": [
    "def move_up(state):\n",
    "    \n",
    "    temp_state = state.copy()\n",
    "    blank_pos = locate_blank(temp_state)\n",
    "    blank_index = location_list.index(blank_pos)\n",
    "    if blank_pos[0] == 0:\n",
    "        return False, temp_state\n",
    "    else:\n",
    "        above_pos = (blank_pos[0]-1,blank_pos[1])\n",
    "        above_index = location_list.index(above_pos)\n",
    "        above_value = temp_state[above_index]\n",
    "        temp_state[blank_index] = above_value\n",
    "        temp_state[above_index] = 0\n",
    "        return True, temp_state\n",
    "    \n",
    "        \n",
    "def move_down(state):\n",
    "    \n",
    "    temp_state = state.copy()\n",
    "    blank_pos = locate_blank(temp_state)\n",
    "    blank_index = location_list.index(blank_pos)\n",
    "    if blank_pos[0] == 2:\n",
    "        return False, temp_state\n",
    "    else:\n",
    "        below_pos = (blank_pos[0]+1,blank_pos[1])\n",
    "        below_index = location_list.index(below_pos)\n",
    "        below_value = temp_state[below_index]\n",
    "        temp_state[blank_index] = below_value\n",
    "        temp_state[below_index] = 0\n",
    "        return True, temp_state\n",
    "    \n",
    "\n",
    "def move_left(state):\n",
    "    temp_state = state.copy()\n",
    "    blank_pos = locate_blank(temp_state)\n",
    "    blank_index = location_list.index(blank_pos)\n",
    "    if blank_pos[1] == 0:\n",
    "        return False, temp_state\n",
    "    else:\n",
    "        left_pos = (blank_pos[0],blank_pos[1]-1)\n",
    "        left_index = location_list.index(left_pos)\n",
    "        left_value = temp_state[left_index]\n",
    "        temp_state[blank_index] = left_value\n",
    "        temp_state[left_index] = 0\n",
    "        return True, temp_state\n",
    "\n",
    "\n",
    "def move_right(state):\n",
    "    temp_state = state.copy()\n",
    "    blank_pos = locate_blank(temp_state)\n",
    "    blank_index = location_list.index(blank_pos)\n",
    "    if blank_pos[1] == 2:\n",
    "        return False, temp_state\n",
    "    else:\n",
    "        right_pos = (blank_pos[0], blank_pos[1]+1)\n",
    "        right_index = location_list.index(right_pos)\n",
    "        right_value = temp_state[right_index]\n",
    "        temp_state[blank_index] = right_value\n",
    "        temp_state[right_index] = 0\n",
    "        return True, temp_state\n",
    "\n",
    "\n"
   ]
  },
  {
   "cell_type": "code",
   "execution_count": 7,
   "metadata": {},
   "outputs": [
    {
     "data": {
      "text/plain": [
       "[0, 5, 4, 3, 8, 2, 6, 1, 7]"
      ]
     },
     "execution_count": 7,
     "metadata": {},
     "output_type": "execute_result"
    }
   ],
   "source": [
    "init_state"
   ]
  },
  {
   "cell_type": "code",
   "execution_count": 8,
   "metadata": {},
   "outputs": [],
   "source": [
    "\n",
    "nodes_info = []\n",
    "nodes = []\n",
    "goal = [1, 4, 7, 2, 5, 8, 3, 6, 0]\n",
    "nodes.append(init_state)\n",
    "nodes_info.append((0, 0, init_state))\n",
    "i = 1\n",
    "p = 0\n",
    "while True:\n",
    "    parent = nodes_info[p][2]\n",
    "    vu,su = move_up(parent)\n",
    "    vd,sd = move_down(parent)\n",
    "    vl,sl = move_left(parent)\n",
    "    vr,sr = move_right(parent)\n",
    "    if vu:\n",
    "      if su not in nodes:\n",
    "        nodes.append(su)\n",
    "        nodes_info.append((i, p, su))\n",
    "        if su == goal:\n",
    "            break\n",
    "        i += 1\n",
    "    if vd:\n",
    "      if sd not in nodes:\n",
    "        nodes.append(sd)\n",
    "        nodes_info.append((i, p, sd))\n",
    "        if sd == goal:\n",
    "            break\n",
    "        i += 1\n",
    "    if vl:\n",
    "      if sl not in nodes:\n",
    "        nodes.append(sl)\n",
    "        nodes_info.append((i, p, sl))\n",
    "        if sl == goal:\n",
    "            break\n",
    "        i += 1\n",
    "    if vr:\n",
    "      if sr not in nodes:\n",
    "        nodes.append(sr)\n",
    "        nodes_info.append((i, p, sr))\n",
    "        if sr == goal:\n",
    "            break\n",
    "        i +=1\n",
    "    p += 1\n"
   ]
  },
  {
   "cell_type": "code",
   "execution_count": 9,
   "metadata": {},
   "outputs": [],
   "source": [
    "node_path = []\n",
    "node_path.append(goal)\n",
    "goal_index = nodes.index(goal)\n",
    "p_index = nodes_info[goal_index][1]\n",
    "while p_index != 0:\n",
    "    parent = nodes_info[p_index]\n",
    "    node_path.append(parent[2])\n",
    "    p_index = parent[1]\n",
    "node_path.append(init_state)\n",
    "node_path.reverse()"
   ]
  },
  {
   "cell_type": "code",
   "execution_count": 17,
   "metadata": {},
   "outputs": [],
   "source": [
    "with open(\"nodePath.txt\", \"w\") as node:\n",
    "    node.write(\"\")\n",
    "\n",
    "def write_node_path(state):\n",
    "    with open(\"nodePath.txt\", \"a\") as node:\n",
    "        node.write(\" \".join(map(str, state)) + \"\\n\")\n",
    "    \n",
    "for item in node_path:\n",
    "    write_node_path(item)\n"
   ]
  },
  {
   "cell_type": "code",
   "execution_count": 18,
   "metadata": {},
   "outputs": [],
   "source": [
    "with open(\"Nodes.txt\",\"w\") as node:\n",
    "    node.write(\"\")\n",
    "\n",
    "def write_nodes(state):\n",
    "    with open(\"Nodes.txt\",\"a\") as node:\n",
    "        node.write(\" \".join(map(str, state)) + \"\\n\")\n",
    "        \n",
    "for item in nodes:\n",
    "    write_nodes(item)"
   ]
  },
  {
   "cell_type": "code",
   "execution_count": 23,
   "metadata": {},
   "outputs": [],
   "source": [
    "with open(\"NodesInfo.txt\",\"w\") as node:\n",
    "    node.write(f\"{'Node_index ':<10}{' Parent_Node_Index ':<18}{' Node '}\\n\")\n",
    "\n",
    "def write_node_info(line):\n",
    "    with open(\"NodesInfo.txt\",\"a\") as node:\n",
    "        node_index, parent_index, state = line\n",
    "        state_str = \" \".join(map(str, state))\n",
    "        node.write(f\"{node_index:<12}{parent_index:<19}{state_str}\\n\")\n",
    "\n",
    "for line in nodes_info:\n",
    "    write_node_info(line)\n",
    "    "
   ]
  }
 ],
 "metadata": {
  "colab": {
   "authorship_tag": "ABX9TyMS8AuOS0CisR+aPSWbGVpf",
   "provenance": []
  },
  "kernelspec": {
   "display_name": "usr",
   "language": "python",
   "name": "python3"
  },
  "language_info": {
   "codemirror_mode": {
    "name": "ipython",
    "version": 3
   },
   "file_extension": ".py",
   "mimetype": "text/x-python",
   "name": "python",
   "nbconvert_exporter": "python",
   "pygments_lexer": "ipython3",
   "version": "3.10.12"
  }
 },
 "nbformat": 4,
 "nbformat_minor": 0
}
