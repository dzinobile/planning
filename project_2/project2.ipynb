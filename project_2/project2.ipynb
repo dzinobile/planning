{
 "cells": [
  {
   "cell_type": "code",
   "execution_count": 25,
   "metadata": {},
   "outputs": [],
   "source": [
    "import numpy as np\n",
    "\n",
    "import cv2"
   ]
  },
  {
   "cell_type": "code",
   "execution_count": 26,
   "metadata": {},
   "outputs": [],
   "source": [
    "h,w = 100, 200\n",
    "\n",
    "start = (10, h-10)\n",
    "end = (w-10, 10)\n",
    "parent_child = [(0, start)]\n",
    "\n",
    "\n",
    "\n",
    "board = np.zeros((h, w, 3),dtype=np.uint8)\n",
    "board_buffer = board.copy()\n",
    "board_buffer = cv2.cvtColor(board_buffer, cv2.COLOR_BGR2GRAY)\n",
    "\n",
    "circle_center = (int((w/2)+10), int(h/2))\n",
    "circle_radius = (int((h/2)-20))\n",
    "\n",
    "board = cv2.circle(board, circle_center, circle_radius, (255, 0, 0), -1)\n",
    "\n",
    "buffer = 2\n",
    "board_buffer = cv2.circle(board_buffer, circle_center, circle_radius + buffer, (255), 2)\n",
    "board_buffer = cv2.rectangle(board_buffer, (0,0), (w,h), 255, buffer)\n",
    "locations = np.where(board_buffer == (255))\n",
    "boundary_xy = set(zip(locations[1], locations[0]))\n",
    "\n",
    "def move_up(index):\n",
    "    parent_xy = parent_child[index][1]\n",
    "    child_xy = (parent_xy[0],parent_xy[1]-1)\n",
    "    if child_xy not in boundary_xy:\n",
    "        boundary_xy.add(child_xy)\n",
    "        parent_child.append((index,child_xy))\n",
    "\n",
    "def move_right(index):\n",
    "    parent_xy = parent_child[index][1]\n",
    "    child_xy = (parent_xy[0]+1, parent_xy[1])\n",
    "    if child_xy not in boundary_xy:\n",
    "        boundary_xy.add(child_xy)\n",
    "        parent_child.append((index, child_xy))\n",
    "\n",
    "def move_down(index):\n",
    "    parent_xy = parent_child[index][1]\n",
    "    child_xy = (parent_xy[0], parent_xy[1]+1)\n",
    "    if child_xy not in boundary_xy:\n",
    "        boundary_xy.add(child_xy)\n",
    "        parent_child.append((index, child_xy))\n",
    "\n",
    "def move_left(index):\n",
    "    parent_xy = parent_child[index][1]\n",
    "    child_xy = (parent_xy[0]-1, parent_xy[1])\n",
    "    if child_xy not in boundary_xy:\n",
    "        boundary_xy.add(child_xy)\n",
    "        parent_child.append((index, child_xy))"
   ]
  },
  {
   "cell_type": "code",
   "execution_count": 27,
   "metadata": {},
   "outputs": [],
   "source": [
    "i = 0\n",
    "while end not in boundary_xy:\n",
    "    for item in [move_up, move_down, move_left, move_right]:\n",
    "        item(i)\n",
    "    i += 1\n",
    "\n",
    "\n"
   ]
  },
  {
   "cell_type": "code",
   "execution_count": 28,
   "metadata": {},
   "outputs": [],
   "source": [
    "path = [parent_child[-1]]\n",
    "while path[-1][0] > 0:\n",
    "    parent_idx = path[-1][0]\n",
    "    path.append(parent_child[parent_idx])\n",
    "\n",
    "path.reverse()"
   ]
  },
  {
   "cell_type": "code",
   "execution_count": 29,
   "metadata": {},
   "outputs": [],
   "source": [
    "rainbow = [(0,0,255)]\n",
    "\n",
    "# spacing = int(1/(255/(len(parent_child))))\n",
    "for i in range(0,len(parent_child)):\n",
    "    ratio = i / (len(parent_child))\n",
    "\n",
    "    if ratio < 1/3:\n",
    "        B= 255\n",
    "        G = int(255*(ratio*3))\n",
    "        R = 0\n",
    "    elif ratio < 2/3:\n",
    "        B = int(255*(2-3*ratio))\n",
    "        G = 255\n",
    "        R = int(255*(3*ratio-1))\n",
    "    else:\n",
    "        B = 0\n",
    "        G = int(255*(3-3*ratio))\n",
    "        R = 255\n",
    "    rainbow.append((B,G,R))\n",
    "\n",
    "    "
   ]
  },
  {
   "cell_type": "code",
   "execution_count": 30,
   "metadata": {},
   "outputs": [],
   "source": [
    "frames = []\n",
    "board_animation = board.copy()\n",
    "\n",
    "\n",
    "for item in parent_child:\n",
    "    b,g,r = rainbow.pop()\n",
    "    rc = (item[1][1], item[1][0])\n",
    "    board_animation[rc] = b,g,r\n",
    "    frame = board_animation.copy()\n",
    "    cv2.imshow('animation', frame)\n",
    "    if cv2.waitKey(1) & 0xFF == ord('q'):\n",
    "        break\n",
    "\n",
    "for item in path:\n",
    "    rc = (item[1][1], item[1][0])\n",
    "    board_animation[rc] = 255,255,255\n",
    "    frame = board_animation.copy()\n",
    "    cv2.imshow('animation', frame)\n",
    "    if cv2.waitKey(1) & 0xFF == ord('q'):\n",
    "        break\n",
    "\n",
    "\n",
    "cv2.waitKey(0)\n",
    "cv2.destroyAllWindows()"
   ]
  },
  {
   "cell_type": "code",
   "execution_count": null,
   "metadata": {},
   "outputs": [],
   "source": [
    "\n",
    "\n",
    "\n",
    "\n",
    "\n"
   ]
  }
 ],
 "metadata": {
  "kernelspec": {
   "display_name": "Python 3",
   "language": "python",
   "name": "python3"
  },
  "language_info": {
   "codemirror_mode": {
    "name": "ipython",
    "version": 3
   },
   "file_extension": ".py",
   "mimetype": "text/x-python",
   "name": "python",
   "nbconvert_exporter": "python",
   "pygments_lexer": "ipython3",
   "version": "3.10.12"
  }
 },
 "nbformat": 4,
 "nbformat_minor": 2
}
