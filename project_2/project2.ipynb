{
 "cells": [
  {
   "cell_type": "code",
   "execution_count": 15,
   "metadata": {},
   "outputs": [],
   "source": [
    "import numpy as np\n",
    "\n",
    "import cv2"
   ]
  },
  {
   "cell_type": "code",
   "execution_count": 16,
   "metadata": {},
   "outputs": [],
   "source": [
    "h,w = 100, 200\n",
    "\n",
    "start = (10, h-10)\n",
    "end = (w-10, 10)\n",
    "parent_child = [(0, start)]\n",
    "\n",
    "\n",
    "\n",
    "board = np.zeros((h, w, 3),dtype=np.uint8)\n",
    "board_buffer = board.copy()\n",
    "board_buffer = cv2.cvtColor(board_buffer, cv2.COLOR_BGR2GRAY)\n",
    "\n",
    "circle_center = (int((w/2)+10), int(h/2))\n",
    "circle_radius = (int((h/2)-20))\n",
    "\n",
    "board = cv2.circle(board, circle_center, circle_radius, (255, 0, 0), -1)\n",
    "\n",
    "buffer = 5\n",
    "board_buffer = cv2.circle(board_buffer, circle_center, circle_radius + buffer, (255), 2)\n",
    "board_buffer = cv2.rectangle(board_buffer, (0,0), (w,h), 255, buffer)\n",
    "locations = np.where(board_buffer == (255))\n",
    "boundary_xy = set(zip(locations[1], locations[0]))\n",
    "\n",
    "def move_up(index):\n",
    "    parent_xy = parent_child[index][1]\n",
    "    child_xy = (parent_xy[0],parent_xy[1]-1)\n",
    "    if child_xy not in boundary_xy:\n",
    "        boundary_xy.add(child_xy)\n",
    "        parent_child.append((index,child_xy))\n",
    "\n",
    "def move_right(index):\n",
    "    parent_xy = parent_child[index][1]\n",
    "    child_xy = (parent_xy[0]+1, parent_xy[1])\n",
    "    if child_xy not in boundary_xy:\n",
    "        boundary_xy.add(child_xy)\n",
    "        parent_child.append((index, child_xy))\n",
    "\n",
    "def move_down(index):\n",
    "    parent_xy = parent_child[index][1]\n",
    "    child_xy = (parent_xy[0], parent_xy[1]+1)\n",
    "    if child_xy not in boundary_xy:\n",
    "        boundary_xy.add(child_xy)\n",
    "        parent_child.append((index, child_xy))\n",
    "\n",
    "def move_left(index):\n",
    "    parent_xy = parent_child[index][1]\n",
    "    child_xy = (parent_xy[0]-1, parent_xy[1])\n",
    "    if child_xy not in boundary_xy:\n",
    "        boundary_xy.add(child_xy)\n",
    "        parent_child.append((index, child_xy))"
   ]
  },
  {
   "cell_type": "code",
   "execution_count": null,
   "metadata": {},
   "outputs": [],
   "source": [
    "i = 0\n",
    "while end not in boundary_xy:\n",
    "    for item in [move_up, move_down, move_left, move_right]:\n",
    "        item(i)\n",
    "    i += 1\n",
    "\n",
    "\n"
   ]
  },
  {
   "cell_type": "code",
   "execution_count": 20,
   "metadata": {},
   "outputs": [],
   "source": [
    "path = [parent_child[-1]]\n",
    "while path[-1][0] > 0:\n",
    "    parent_idx = path[-1][0]\n",
    "    path.append(parent_child[parent_idx])\n",
    "\n"
   ]
  },
  {
   "cell_type": "code",
   "execution_count": 18,
   "metadata": {},
   "outputs": [],
   "source": [
    "frames = []\n",
    "board_animation = board.copy()\n",
    "\n",
    "\n",
    "for item in parent_child:\n",
    "    rc = (item[1][1], item[1][0])\n",
    "    board_animation[rc] = 255,255,255\n",
    "    frame = board_animation.copy()\n",
    "    cv2.imshow('animation', frame)\n",
    "    if cv2.waitKey(1) & 0xFF == ord('q'):\n",
    "        break\n",
    "\n",
    "\n",
    "cv2.destroyAllWindows()"
   ]
  }
 ],
 "metadata": {
  "kernelspec": {
   "display_name": "Python 3",
   "language": "python",
   "name": "python3"
  },
  "language_info": {
   "codemirror_mode": {
    "name": "ipython",
    "version": 3
   },
   "file_extension": ".py",
   "mimetype": "text/x-python",
   "name": "python",
   "nbconvert_exporter": "python",
   "pygments_lexer": "ipython3",
   "version": "3.10.12"
  }
 },
 "nbformat": 4,
 "nbformat_minor": 2
}
