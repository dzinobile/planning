{
 "cells": [
  {
   "cell_type": "code",
   "execution_count": 1,
   "metadata": {},
   "outputs": [],
   "source": [
    "import numpy as np\n",
    "import cv2\n"
   ]
  },
  {
   "cell_type": "code",
   "execution_count": null,
   "metadata": {},
   "outputs": [],
   "source": [
    "h = 50\n",
    "w = 180\n",
    "\n",
    "map = np.zeros((h, w, 3), dtype=np.uint8)\n",
    "\n",
    "for y in range(17,35):\n",
    "    # E\n",
    "    for x in range(20,40):\n",
    "        if 16 < y <= 20:\n",
    "            if 21 < x <= 39:\n",
    "                map[y,x] = (255,0,0)\n",
    "        if 20 < y <= 23:\n",
    "            if 21 < x <= 25:\n",
    "                map[y,x] = (255,0,0)\n",
    "        if 23 < y <=27:\n",
    "            if 21 < x <= 39:\n",
    "                map[y,x] = (255,0,0)\n",
    "        if 27 < y <= 30:\n",
    "            if 21 < x <= 25:\n",
    "                map[y,x] = (255,0,0)\n",
    "        if 30 < y <= 34:\n",
    "            if 21 < x <= 39:\n",
    "                map[y,x] = (255,0,0)\n",
    "    \n",
    "    #N\n",
    "    for x in range(40,60):\n",
    "        if 41 < x <= 45:\n",
    "            map[y,x] = (255,0,0)\n",
    "        if 55 < x <= 59:\n",
    "            map[y,x] = (255,0,0)\n",
    "        if 45 < x <= 55:\n",
    "            if (1.2*x)-38 < y <= (1.2*x)-32:\n",
    "                map[y,x] = (255,0,0)\n",
    "    \n",
    "    #P\n",
    "    for x in range(60, 80):\n",
    "        if 61 < x <=67:\n",
    "            map[y,x] = (255,0,0)\n",
    "        if 67 < x <= 79:\n",
    "            if (((x-67)**2)/(12**2))+(((y-22)**2)/(6**2)) <= 1:\n",
    "                map[y,x] = (255,0,0)\n",
    "    \n",
    "    #M\n",
    "    for x in range(80,100):\n",
    "        if 81 < x <=85:\n",
    "            map[y,x] = (255,0,0)\n",
    "        if 85 < x <= 90:\n",
    "            if ((9/5)*x)-137 < y <= ((9/5)*x)-129:\n",
    "                map[y,x] = (255,0,0)\n",
    "        if 90 < x <= 95:\n",
    "            if ((-9/5)*x)+187 < y <= ((-9/5)*x)+195:\n",
    "                map[y,x] = (255,0,0)\n",
    "        if 95 < x <= 99:\n",
    "            map[y,x] = (255,0,0)\n",
    "    \n",
    "    #6\n",
    "    for x in range(100,120):\n",
    "\n",
    "        if ((x-110)**2)+(y-28.5)**2 <= 5.5**2:\n",
    "            map[y,x] = (255,0,0)\n",
    "            map[y,x+20] = (255,0,0)\n",
    "        if ((x-110.85)**2)+(y-18)**2 <= 2**2:\n",
    "            map[y,x] = (255,0,0)\n",
    "            map[y,x+20] = (255,0,0)\n",
    "        if x-92.85 < y <=28.5:\n",
    "            if 12.85**2 < (((x-121.35)**2)+((y-28.5)**2)) <= 16.85**2:\n",
    "                map[y,x] = (255,0,0)\n",
    "                map[y,x+20] = (255,0,0)\n",
    "\n",
    "    #1\n",
    "    for x in range(140,160):\n",
    "        if 16 < y <= 20.62:\n",
    "            if 144 < x <= 152:\n",
    "                map[y,x] = (255,0,0)\n",
    "        if 20.62 < y <= 30:\n",
    "            if 148 < x <= 152:\n",
    "                map[y,x] = (255,0,0)\n",
    "        if 30 < y <= 34:\n",
    "            if 144 < x < 156:\n",
    "                map[y,x] = (255,0,0)\n",
    "  \n",
    "\n",
    "\n",
    "\n",
    "\n",
    "\n",
    "cv2.imshow('map', map)\n",
    "\n",
    "cv2.waitKey(0)\n",
    "cv2.destroyAllWindows()\n"
   ]
  },
  {
   "cell_type": "code",
   "execution_count": null,
   "metadata": {},
   "outputs": [
    {
     "data": {
      "text/plain": [
       "205"
      ]
     },
     "execution_count": 15,
     "metadata": {},
     "output_type": "execute_result"
    }
   ],
   "source": [
    "x = 67\n",
    "y = 16\n",
    "int((((x-22)**2)/(12**2))+(((y-67)**2)/(6**2))) "
   ]
  }
 ],
 "metadata": {
  "kernelspec": {
   "display_name": "Python 3",
   "language": "python",
   "name": "python3"
  },
  "language_info": {
   "codemirror_mode": {
    "name": "ipython",
    "version": 3
   },
   "file_extension": ".py",
   "mimetype": "text/x-python",
   "name": "python",
   "nbconvert_exporter": "python",
   "pygments_lexer": "ipython3",
   "version": "3.10.12"
  }
 },
 "nbformat": 4,
 "nbformat_minor": 2
}
